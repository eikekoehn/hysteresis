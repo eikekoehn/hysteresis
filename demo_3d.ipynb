{
 "cells": [
  {
   "cell_type": "markdown",
   "id": "f1db5ac1-7a14-4e5e-a660-2bacd7e5f667",
   "metadata": {},
   "source": [
    "# This file serves to demonstrate how to use a function defined in this package.\n",
    "Specifically, it serves to show how to use the calc_calc_hysteresis_area_3D function to compute hysteresis area. It also computes the loop gaps using the function calc_loop_gap_3D."
   ]
  },
  {
   "cell_type": "markdown",
   "id": "70d60094-28a9-4535-b435-03d2ea51c66a",
   "metadata": {},
   "source": [
    "Note that the ref_axis needs to be strictly monotonically changing to the global extremum and strictly monotonically changing afterwards. Otherwise, unwanted behaviour can occur."
   ]
  },
  {
   "cell_type": "code",
   "execution_count": 1,
   "id": "ef3fa57b-719b-400d-a04e-0655ef2f6b69",
   "metadata": {},
   "outputs": [
    {
     "data": {
      "text/plain": [
       "<module 'hysteresis.loop_metrics' from '/home/ekoehn/software/hysteresis/loop_metrics.py'>"
      ]
     },
     "execution_count": 1,
     "metadata": {},
     "output_type": "execute_result"
    }
   ],
   "source": [
    "import numpy as np\n",
    "import matplotlib.pyplot as plt\n",
    "import xarray as xr\n",
    "\n",
    "# Importing the functions from the package\n",
    "import sys\n",
    "sys.path.insert(0,'/home/ekoehn/software/')\n",
    "import hysteresis # import the package\n",
    "from hysteresis import hyst_areas as ha # import the submodule hyst_areas\n",
    "from hysteresis import loop_metrics as lm # import the submodule loop_metrics\n",
    "\n",
    "# reload the modules in case there were some changes\n",
    "import importlib\n",
    "importlib.reload(ha)\n",
    "importlib.reload(lm)"
   ]
  },
  {
   "cell_type": "markdown",
   "id": "3263e6bc-c26d-443e-b7e0-8b0a74845a28",
   "metadata": {},
   "source": [
    "## Set up the demo"
   ]
  },
  {
   "cell_type": "code",
   "execution_count": 2,
   "id": "6f5b7d42-d6fc-417f-a121-ac0027ca5f01",
   "metadata": {},
   "outputs": [],
   "source": [
    "# Define dimensions\n",
    "n_years = 180\n",
    "n_lat = 50\n",
    "n_lon = 100\n",
    "\n",
    "# Generate coordinate arrays\n",
    "years = np.arange(n_years)\n",
    "lats = np.linspace(-90, 90, n_lat)\n",
    "lons = np.linspace(-180, 180, n_lon)\n",
    "\n",
    "# Create a meshgrid of lat/lon to generate unique sinusoidal patterns at each location\n",
    "lat_grid, lon_grid = np.meshgrid(lats, lons, indexing='ij')\n",
    "\n",
    "# Generate a unique sinusoidal signal at each (lat, lon) location\n",
    "# The phase and amplitude vary slightly per location for uniqueness\n",
    "amplitudes = 1 + 0.5 * np.sin(np.radians(lat_grid))  # Amplitude varies with latitude\n",
    "phases = np.radians(lon_grid)  # Phase shift varies with longitude\n",
    "\n",
    "# Create the time-dependent data\n",
    "data = np.array([\n",
    "    amplitudes * np.sin(2 * np.pi * years[i] / n_years + phases)\n",
    "    for i in range(n_years)\n",
    "])\n",
    "\n",
    "# Convert to an xarray DataArray\n",
    "da = xr.DataArray(\n",
    "    data,\n",
    "    coords={\"year\": years, \"lat\": lats, \"lon\": lons},\n",
    "    dims=[\"year\", \"lat\", \"lon\"]\n",
    ")\n",
    "\n",
    "# Dfine the reference axis\n",
    "ref_axis = np.sin(np.linspace(-np.pi/2,3/2*np.pi,n_years)) # strictly monotonically increasing and then strictly monotonically decreasing reference axis over a 2pi cycle\n"
   ]
  },
  {
   "cell_type": "markdown",
   "id": "db7d8b7a-817e-4f15-bc14-b6c802a40aea",
   "metadata": {},
   "source": [
    "## Plot example locations"
   ]
  },
  {
   "cell_type": "code",
   "execution_count": null,
   "id": "0a61f199-00a4-4594-8745-62bab0cef71c",
   "metadata": {},
   "outputs": [
    {
     "data": {
      "text/plain": [
       "Text(0.5, 0.98, 'Example time series at different locations')"
      ]
     },
     "execution_count": 3,
     "metadata": {},
     "output_type": "execute_result"
    }
   ],
   "source": [
    "res = 5\n",
    "fig,ax = plt.subplots(int(n_lat/res),int(n_lon/res),sharex='col',sharey='row',figsize=(10,7))\n",
    "plt.tight_layout()\n",
    "plt.subplots_adjust(wspace=0,hspace=0)\n",
    "\n",
    "lats_subsampled = lats[::res]\n",
    "lons_subsampled = lons[::res]\n",
    "\n",
    "for lati,lat in enumerate(lats_subsampled):\n",
    "    lati2 = np.size(lats_subsampled)-lati-1\n",
    "    for loni,lon in enumerate(lons_subsampled):\n",
    "        # \"flip\" the lati to have the right order from \"north\" to \"south\" in the way the subplots appear\n",
    "        ax[lati2,loni].scatter(ref_axis,da.sel(lat=lat,lon=lon),15,np.arange(n_years))\n",
    "        ax[lati2,loni].set_yticks([0])\n",
    "        ax[lati2,loni].set_yticklabels([int(lat)])\n",
    "        ax[lati2,loni].set_xticks([0])\n",
    "        ax[lati2,loni].set_xticklabels([int(lon)])\n",
    "        ax[lati2,loni].set_xlim([-1.75,1.75])\n",
    "        ax[lati2,loni].set_ylim([-1.75,1.75])\n",
    "ax[-1,int(len(lons_subsampled)/2)].set_xlabel('Longitude')\n",
    "ax[int(len(lats_subsampled)/2),0].set_ylabel('Latitude')\n",
    "plt.subplots_adjust(top=0.95)\n",
    "fig.suptitle('Example time series at different locations')"
   ]
  },
  {
   "cell_type": "markdown",
   "id": "e723d724-22d5-4b28-b7af-523218c50ee2",
   "metadata": {},
   "source": [
    "## Do the calculation of the hysteresis area and return the hysteresis metrics"
   ]
  },
  {
   "cell_type": "code",
   "execution_count": null,
   "id": "fb3fc914-4aee-49ff-8990-2af513735ae6",
   "metadata": {},
   "outputs": [],
   "source": [
    "normalizer = 'min_max_diff_full_cycle'\n",
    "ds = ha.calc_hysteresis_area_3D(ref_axis, da, nsteps=1000, normalizer=normalizer,return_interpolated_vectors=True)"
   ]
  },
  {
   "cell_type": "markdown",
   "id": "caa298fa-1e30-41ac-8966-df2624a464f6",
   "metadata": {},
   "source": [
    "## Check interpolated rampup and rampdown parts of one interpolated time series"
   ]
  },
  {
   "cell_type": "code",
   "execution_count": null,
   "id": "a8476385-d5bd-4825-8ddd-974be9f5135f",
   "metadata": {},
   "outputs": [],
   "source": [
    "ds.interpolated_rampup.isel(lat=20,lon=20).plot()\n",
    "ds.interpolated_rampdown.isel(lat=20,lon=20).plot()\n",
    "plt.ylabel('Interpolated rampup (blue), rampdown (orange)')"
   ]
  },
  {
   "cell_type": "markdown",
   "id": "e31e5e87-2e1a-4d0b-acf5-f60282fafb49",
   "metadata": {},
   "source": [
    "## Plot the calculated hysteresis areas for all locations"
   ]
  },
  {
   "cell_type": "code",
   "execution_count": null,
   "id": "ec776fb2-361a-4559-b1e2-8023b46c4edb",
   "metadata": {},
   "outputs": [],
   "source": [
    "fig,ax = plt.subplots(2,2,figsize=(15,10))\n",
    "ds.hysteresis_area.plot(ax=ax[0,0])\n",
    "ax[0,0].set_title('Full hysteresis area')\n",
    "ds.signed_hysteresis_area.plot(ax=ax[1,0])\n",
    "ax[1,0].set_title(\"Sign aware hysteresis area\")\n",
    "ds.normalized_hysteresis_area.plot(ax=ax[0,1])\n",
    "ax[0,1].set_title(\"Normalized hysteresis area\")\n",
    "ds.normalizer_value.plot(ax=ax[1,1])\n",
    "ax[1,1].set_title(\"Normalizer value\")\n",
    "plt.tight_layout()\n",
    "plt.show()"
   ]
  },
  {
   "cell_type": "markdown",
   "id": "59625802-ebdb-448a-b41c-5ffa52c1eb47",
   "metadata": {},
   "source": [
    "## Note, that if the initial values in the rampup/rampdown are not the same, the interpolated rampup/rampdown vectors will carry NaNs for these parts of the vectors. Hence the final hysteresis area is only calculated over the parts where both the rampup and rampdown vectors are defined.\n",
    "\n",
    "### See the following example"
   ]
  },
  {
   "cell_type": "code",
   "execution_count": null,
   "id": "7ec8daa6-cffa-4697-8162-7ffec1a3b7cb",
   "metadata": {},
   "outputs": [],
   "source": [
    "# Define dimensions\n",
    "n_years = 180\n",
    "n_lat = 50\n",
    "n_lon = 100\n",
    "\n",
    "# Generate coordinate arrays\n",
    "years = np.arange(n_years)\n",
    "lats = np.linspace(-90, 90, n_lat)\n",
    "lons = np.linspace(-180, 180, n_lon)\n",
    "\n",
    "# Create a meshgrid of lat/lon to generate unique sinusoidal patterns at each location\n",
    "lat_grid, lon_grid = np.meshgrid(lats, lons, indexing='ij')\n",
    "\n",
    "# Generate a unique sinusoidal signal at each (lat, lon) location\n",
    "# The phase and amplitude vary slightly per location for uniqueness\n",
    "amplitudes = 1 + 0.5 * np.sin(np.radians(lat_grid))  # Amplitude varies with latitude\n",
    "phases = np.radians(lon_grid)  # Phase shift varies with longitude\n",
    "\n",
    "# Create the time-dependent data\n",
    "data = np.array([\n",
    "    amplitudes * np.sin(2 * np.pi * years[i] / n_years + phases)\n",
    "    for i in range(n_years)\n",
    "])\n",
    "\n",
    "# Convert to an xarray DataArray\n",
    "da = xr.DataArray(\n",
    "    data,\n",
    "    coords={\"year\": years, \"lat\": lats, \"lon\": lons},\n",
    "    dims=[\"year\", \"lat\", \"lon\"]\n",
    ")\n",
    "\n",
    "# Dfine the reference axis\n",
    "ref_axis = np.sin(np.linspace(-np.pi/2,np.pi,n_years)) # strictly monotonically increasing and then strictly monotonically decreasing reference axis over a 2pi cycle\n"
   ]
  },
  {
   "cell_type": "code",
   "execution_count": null,
   "id": "1e5c2058-d0bb-4bcf-97c0-0d390a99bfee",
   "metadata": {},
   "outputs": [],
   "source": [
    "res = 5\n",
    "fig,ax = plt.subplots(int(n_lat/res),int(n_lon/res),sharex='col',sharey='row',figsize=(10,7))\n",
    "plt.tight_layout()\n",
    "plt.subplots_adjust(wspace=0,hspace=0)\n",
    "\n",
    "lats_subsampled = lats[::res]\n",
    "lons_subsampled = lons[::res]\n",
    "\n",
    "for lati,lat in enumerate(lats_subsampled):\n",
    "    lati2 = np.size(lats_subsampled)-lati-1\n",
    "    for loni,lon in enumerate(lons_subsampled):\n",
    "        # \"flip\" the lati to have the right order from \"north\" to \"south\" in the way the subplots appear\n",
    "        ax[lati2,loni].scatter(ref_axis,da.sel(lat=lat,lon=lon),15,np.arange(n_years))\n",
    "        ax[lati2,loni].set_yticks([0])\n",
    "        ax[lati2,loni].set_yticklabels([int(lat)])\n",
    "        ax[lati2,loni].set_xticks([0])\n",
    "        ax[lati2,loni].set_xticklabels([int(lon)])\n",
    "        ax[lati2,loni].set_xlim([-1.75,1.75])\n",
    "        ax[lati2,loni].set_ylim([-1.75,1.75])\n",
    "ax[-1,int(len(lons_subsampled)/2)].set_xlabel('Longitude')\n",
    "ax[int(len(lats_subsampled)/2),0].set_ylabel('Latitude')\n",
    "plt.subplots_adjust(top=0.95)\n",
    "fig.suptitle('Example time series at different locations')"
   ]
  },
  {
   "cell_type": "code",
   "execution_count": null,
   "id": "022d1934-cc6f-455d-bbeb-56b7c9fa22fe",
   "metadata": {},
   "outputs": [],
   "source": [
    "normalizer = 'min_max_diff_full_cycle'\n",
    "ds = ha.calc_hysteresis_area_3D(ref_axis, da, nsteps=1000, normalizer=normalizer,return_interpolated_vectors=True)"
   ]
  },
  {
   "cell_type": "markdown",
   "id": "83431884-f4ff-4bd0-832d-7e0626dc890a",
   "metadata": {},
   "source": [
    "## Check interpolated rampup and rampdown parts of one interpolated time series"
   ]
  },
  {
   "cell_type": "code",
   "execution_count": null,
   "id": "f441070a-e6c6-41b3-a668-33950d0f72b0",
   "metadata": {},
   "outputs": [],
   "source": [
    "ds.interpolated_rampup.isel(lat=20,lon=20).plot()\n",
    "ds.interpolated_rampdown.isel(lat=20,lon=20).plot()\n",
    "plt.ylabel('Interpolated rampup (blue), rampdown (orange)')"
   ]
  },
  {
   "cell_type": "markdown",
   "id": "e9e3c8e6-f81a-4d96-8c04-64441a9506af",
   "metadata": {},
   "source": [
    "## Plot the calculated hysteresis areas for all locations"
   ]
  },
  {
   "cell_type": "code",
   "execution_count": null,
   "id": "f4f846fe-6e24-4a12-a102-20fad605c2a7",
   "metadata": {},
   "outputs": [],
   "source": [
    "fig,ax = plt.subplots(2,2,figsize=(15,10))\n",
    "ds.hysteresis_area.plot(ax=ax[0,0])\n",
    "ax[0,0].set_title('Full hysteresis area')\n",
    "ds.signed_hysteresis_area.plot(ax=ax[1,0])\n",
    "ax[1,0].set_title(\"Sign aware hysteresis area\")\n",
    "ds.normalized_hysteresis_area.plot(ax=ax[0,1])\n",
    "ax[0,1].set_title(\"Normalized hysteresis area\")\n",
    "ds.normalizer_value.plot(ax=ax[1,1])\n",
    "ax[1,1].set_title(\"Normalizer value\")\n",
    "plt.tight_layout()\n",
    "plt.show()"
   ]
  },
  {
   "cell_type": "markdown",
   "id": "70c80cc6-ec9e-4c43-8122-fc143692a4ba",
   "metadata": {},
   "source": [
    "## Now, for this open case, calculate the loop gap, which is in this case evaluated at the location 0 on the reference axis"
   ]
  },
  {
   "cell_type": "code",
   "execution_count": null,
   "id": "5f4b2505-274f-4d1c-989b-ce7034aee26b",
   "metadata": {},
   "outputs": [],
   "source": [
    "normalizer = 'min_max_diff_full_cycle'\n",
    "ds_loopgap = lm.calc_loop_gap_3D(ref_axis, da, nsteps=1000, n_ave=10, normalizer=normalizer)"
   ]
  },
  {
   "cell_type": "code",
   "execution_count": null,
   "id": "a13e7214-2c37-43f1-a104-544b281a8636",
   "metadata": {},
   "outputs": [],
   "source": [
    "fig,ax = plt.subplots(2,2,figsize=(15,10))\n",
    "ds_loopgap.start_end_difference.plot(ax=ax[0,0])\n",
    "ax[0,0].set_title('Start end difference')\n",
    "ds_loopgap.normalized_start_end_difference.plot(ax=ax[1,0])\n",
    "ax[1,0].set_title('Normalized start end difference')\n",
    "ds_loopgap.normalizer_value.plot(ax=ax[0,1])\n",
    "ax[0,1].set_title('Normalizer value')\n",
    "ax[1,1].set_visible(False)\n",
    "plt.tight_layout()\n",
    "plt.show()"
   ]
  }
 ],
 "metadata": {
  "kernelspec": {
   "display_name": "Python 3 (ipykernel)",
   "language": "python",
   "name": "python3"
  },
  "language_info": {
   "codemirror_mode": {
    "name": "ipython",
    "version": 3
   },
   "file_extension": ".py",
   "mimetype": "text/x-python",
   "name": "python",
   "nbconvert_exporter": "python",
   "pygments_lexer": "ipython3",
   "version": "3.11.7"
  }
 },
 "nbformat": 4,
 "nbformat_minor": 5
}
